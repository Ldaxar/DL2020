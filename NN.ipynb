{
 "cells": [
  {
   "cell_type": "code",
   "execution_count": 225,
   "metadata": {},
   "outputs": [],
   "source": [
    "#Authors: Adam Lewandowski, Ivan Sladkov, Patrick English\n",
    "import numpy as np\n",
    "import tensorflow as tf\n",
    "from tensorflow import keras\n",
    "import pandas as pd\n",
    "import nltk\n",
    "from sklearn.utils import shuffle\n",
    "import matplotlib\n",
    "import matplotlib.pyplot as plt\n",
    "# random seeds\n",
    "seed=2020\n",
    "np.random.seed(seed)\n",
    "tf.random.set_seed(seed)"
   ]
  },
  {
   "cell_type": "code",
   "execution_count": 226,
   "metadata": {},
   "outputs": [],
   "source": [
    "def str_list_to_list(tweets):\n",
    "    t = tweets.copy()\n",
    "    import ast \n",
    "    t[\"tweets\"] = t[\"tweets\"].apply(lambda x: ast.literal_eval(x))\n",
    "    return t\n",
    "#Download this: https://drive.google.com/open?id=1-3lesjyVd1gGnjJGz_cipqO8CNeiTiPx\n",
    "#Put it into data folder\n",
    "tweets = pd.read_csv(\"data/processed_tweets.csv\", encoding = \"ISO-8859-1\")\n",
    "tweets = str_list_to_list(tweets)"
   ]
  },
  {
   "cell_type": "code",
   "execution_count": 227,
   "metadata": {},
   "outputs": [],
   "source": [
    "def parse_tweet(tweet, word_dictionary):\n",
    "    sentence = []\n",
    "    for word in tweet:\n",
    "        try:\n",
    "            if word[0]=='@':\n",
    "                sentence.append(word_dictionary['<usr>'])\n",
    "            else:\n",
    "                sentence.append(word_dictionary[word])\n",
    "        except KeyError:\n",
    "            sentence.append(1)\n",
    "    return sentence"
   ]
  },
  {
   "cell_type": "code",
   "execution_count": 228,
   "metadata": {},
   "outputs": [],
   "source": [
    "def prepare_input_data(df, dictionary_size):\n",
    "    # Pre-processing for word embeddings\n",
    "    # Count each unique word\n",
    "    raw_words = df['tweets']\n",
    "    word_count = {}\n",
    "    for tweet in raw_words:\n",
    "        for word in tweet:\n",
    "            if word[0]!='@':\n",
    "                if word in word_count:\n",
    "                    word_count[word] += 1\n",
    "                else:\n",
    "                    word_count[word] = 1\n",
    "    # Sort each unique word using the value\n",
    "    sorted_word_count = sorted(word_count.items(), key=lambda key: key[1], reverse=True)\n",
    "    \n",
    "    # create dictionaries to convert tokens to integers and integers to tokens (needed for the embedding layer)\n",
    "    # <pad> will be used for padding the data because the NN inputs have to be the same size and tweets are of varying length\n",
    "    # <unk> will be used to replace tokens that were too uncommon to add to the dictionary\n",
    "    word_dictionary={'<pad>': 0, '<unk>': 1, '<usr>': 2}\n",
    "    for i in range(dictionary_size):\n",
    "        word_dictionary[sorted_word_count[i][0]]=i+3\n",
    "    reverse_dictionary = dict([(value, key) for (key, value) in word_dictionary.items()])\n",
    "\n",
    "    # Convert each token into its index in the dictionary and\n",
    "    # create a new dataframe with the list of indexes and corresponding targets\n",
    "    data=[]\n",
    "    \n",
    "    for tweet in df['tweets']:\n",
    "        data.append(parse_tweet(tweet, word_dictionary))\n",
    "\n",
    "    input_data=pd.DataFrame({\n",
    "        'data': data,\n",
    "        'targets': df['target']\n",
    "    })\n",
    "    \n",
    "    return input_data, word_dictionary, reverse_dictionary, word_count"
   ]
  },
  {
   "cell_type": "code",
   "execution_count": 229,
   "metadata": {},
   "outputs": [],
   "source": [
    "def split_padded_data(data, seed, tweet_length=None, sample_size=None):\n",
    "    if tweet_length == None:\n",
    "        # Get the length of the longest tweet\n",
    "        max_tweet_length=len(max(data['data'], key=len))\n",
    "    else:\n",
    "        max_tweet_length=tweet_length\n",
    "    # Split the data 80% train data (later a subset will be selected as validation data) - 20% test data\n",
    "    shuffled_dataframe=shuffle(data, random_state=seed)\n",
    "    if sample_size != None:\n",
    "        shuffled_dataframe=shuffled_dataframe[:sample_size]\n",
    "    train_dataframe=shuffled_dataframe.sample(frac=0.8, random_state=seed)\n",
    "    test_dataframe=shuffled_dataframe.drop(train_dataframe.index)\n",
    "    \n",
    "    # Pad the tweets with <pad> up to the max tweet length so all tweets have the same length\n",
    "    train_data=keras.preprocessing.sequence.pad_sequences(list(train_dataframe['data']),\n",
    "                                                        value=0,\n",
    "                                                        padding='post',\n",
    "                                                        maxlen=max_tweet_length)\n",
    "    train_targets=train_dataframe['targets'].replace(4,1)\n",
    "    \n",
    "    test_data=keras.preprocessing.sequence.pad_sequences(list(test_dataframe['data']),\n",
    "                                                        value=0,\n",
    "                                                        padding='post',\n",
    "                                                        maxlen=max_tweet_length)\n",
    "    test_targets=test_dataframe['targets'].replace(4,1)\n",
    "    \n",
    "    return train_data, train_targets, test_data, test_targets, max_tweet_length\n",
    "    "
   ]
  },
  {
   "cell_type": "code",
   "execution_count": 257,
   "metadata": {},
   "outputs": [],
   "source": [
    "def create_model(train_data, train_targets, word_dictionary, max_tweet_length, seed):\n",
    "    model = keras.models.Sequential()\n",
    "    model.add(keras.layers.Embedding(len(word_dictionary), output_dim=150, input_length=max_tweet_length, trainable=True, embeddings_initializer=keras.initializers.RandomUniform(seed=None)))\n",
    "    #model.add(keras.layers.Conv1D(100, 4, activation='relu', kernel_initializer=keras.initializers.glorot_uniform(seed=seed)))\n",
    "    #model.add(keras.layers.MaxPool1D(2))\n",
    "    model.add(keras.layers.Bidirectional(keras.layers.LSTM(80, kernel_initializer=keras.initializers.glorot_uniform(seed=seed),recurrent_initializer=keras.initializers.orthogonal(seed=seed), return_sequences=True)))\n",
    "    model.add(keras.layers.Bidirectional(keras.layers.LSTM(32, kernel_initializer=keras.initializers.glorot_uniform(seed=seed),recurrent_initializer=keras.initializers.orthogonal(seed=seed))))\n",
    "\n",
    "    #model.add(keras.layers.LSTM(100, kernel_initializer=keras.initializers.glorot_uniform(seed=seed),recurrent_initializer=keras.initializers.orthogonal(seed=seed)))\n",
    "    #model.add(keras.layers.Dense(32, activation='sigmoid', kernel_initializer=keras.initializers.glorot_uniform(seed=seed)))\n",
    "    model.add(keras.layers.Dropout(0.2, seed=seed))\n",
    "    model.add(keras.layers.Dense(1, activation='sigmoid', kernel_initializer=keras.initializers.glorot_uniform(seed=seed)))\n",
    "    model.compile(loss='binary_crossentropy', optimizer='adam', metrics=['accuracy'])\n",
    "    print(model.summary())\n",
    "    return model"
   ]
  },
  {
   "cell_type": "code",
   "execution_count": 232,
   "metadata": {},
   "outputs": [],
   "source": [
    "# Some variables used for pre-processing the data\n",
    "dictionary_size=25000"
   ]
  },
  {
   "cell_type": "code",
   "execution_count": 249,
   "metadata": {},
   "outputs": [],
   "source": [
    "# Pre-process the data.\n",
    "# Create the dictionaries\n",
    "input_data, word_dictionary, reverse_dictionary, word_count = prepare_input_data(tweets, dictionary_size)"
   ]
  },
  {
   "cell_type": "code",
   "execution_count": 250,
   "metadata": {},
   "outputs": [],
   "source": [
    "#split and pad the data\n",
    "train_data, train_targets, test_data, test_targets, max_tweet_length = split_padded_data(input_data, seed, 26)"
   ]
  },
  {
   "cell_type": "code",
   "execution_count": 251,
   "metadata": {},
   "outputs": [
    {
     "data": {
      "text/plain": [
       "1280000"
      ]
     },
     "execution_count": 251,
     "metadata": {},
     "output_type": "execute_result"
    }
   ],
   "source": [
    "len(train_data)"
   ]
  },
  {
   "cell_type": "code",
   "execution_count": 170,
   "metadata": {},
   "outputs": [],
   "source": [
    "lengths = [len(x) for x in input_data['data']]"
   ]
  },
  {
   "cell_type": "code",
   "execution_count": 171,
   "metadata": {},
   "outputs": [],
   "source": [
    "unique_lengths = set(lengths)"
   ]
  },
  {
   "cell_type": "code",
   "execution_count": 172,
   "metadata": {},
   "outputs": [],
   "source": [
    "length_occurrence = []\n",
    "for i in unique_lengths:\n",
    "    length_occurrence.append(lengths.count(i))"
   ]
  },
  {
   "cell_type": "code",
   "execution_count": 173,
   "metadata": {},
   "outputs": [
    {
     "data": {
      "text/plain": [
       "<BarContainer object of 40 artists>"
      ]
     },
     "execution_count": 173,
     "metadata": {},
     "output_type": "execute_result"
    },
    {
     "data": {
      "image/png": "[encoded data removed]",
      "text/plain": [
       "<Figure size 432x288 with 1 Axes>"
      ]
     },
     "metadata": {
      "needs_background": "light"
     },
     "output_type": "display_data"
    }
   ],
   "source": [
    "plt.bar([str(i) for i in unique_lengths], length_occurrence)"
   ]
  },
  {
   "cell_type": "code",
   "execution_count": 174,
   "metadata": {},
   "outputs": [
    {
     "name": "stdout",
     "output_type": "stream",
     "text": [
      "(0, 316)\n",
      "(1, 19443)\n",
      "(2, 84547)\n",
      "(3, 132075)\n",
      "(4, 149166)\n",
      "(5, 152892)\n",
      "(6, 148587)\n",
      "(7, 139592)\n",
      "(8, 126578)\n",
      "(9, 114069)\n",
      "(10, 104509)\n",
      "(11, 96804)\n",
      "(12, 89724)\n",
      "(13, 76647)\n",
      "(14, 61538)\n",
      "(15, 44309)\n",
      "(16, 27820)\n",
      "(17, 15756)\n",
      "(18, 8159)\n",
      "(19, 3810)\n",
      "(20, 1835)\n",
      "(21, 806)\n",
      "(22, 431)\n",
      "(23, 214)\n",
      "(24, 108)\n",
      "(25, 102)\n",
      "(26, 36)\n",
      "(27, 42)\n",
      "(28, 20)\n",
      "(29, 24)\n",
      "(30, 12)\n",
      "(31, 5)\n",
      "(32, 7)\n",
      "(33, 6)\n",
      "(34, 3)\n",
      "(35, 3)\n",
      "(36, 1)\n",
      "(37, 1)\n",
      "(38, 1)\n",
      "(43, 2)\n"
     ]
    }
   ],
   "source": [
    "x=zip(unique_lengths,length_occurrence)\n",
    "for i in tuple(x):\n",
    "    print(i)"
   ]
  },
  {
   "cell_type": "code",
   "execution_count": 258,
   "metadata": {
    "scrolled": false
   },
   "outputs": [
    {
     "name": "stdout",
     "output_type": "stream",
     "text": [
      "Model: \"sequential_42\"\n",
      "_________________________________________________________________\n",
      "Layer (type)                 Output Shape              Param #   \n",
      "=================================================================\n",
      "embedding_42 (Embedding)     (None, 26, 150)           2250450   \n",
      "_________________________________________________________________\n",
      "bidirectional_22 (Bidirectio (None, 26, 160)           147840    \n",
      "_________________________________________________________________\n",
      "bidirectional_23 (Bidirectio (None, 64)                49408     \n",
      "_________________________________________________________________\n",
      "dropout_49 (Dropout)         (None, 64)                0         \n",
      "_________________________________________________________________\n",
      "dense_51 (Dense)             (None, 1)                 65        \n",
      "=================================================================\n",
      "Total params: 2,447,763\n",
      "Trainable params: 2,447,763\n",
      "Non-trainable params: 0\n",
      "_________________________________________________________________\n",
      "None\n"
     ]
    }
   ],
   "source": [
    "model=create_model(train_data, train_targets, word_dictionary, max_tweet_length, seed)"
   ]
  },
  {
   "cell_type": "code",
   "execution_count": 259,
   "metadata": {
    "scrolled": false
   },
   "outputs": [
    {
     "name": "stdout",
     "output_type": "stream",
     "text": [
      "Train on 1152000 samples, validate on 128000 samples\n",
      "Epoch 1/2\n",
      "1152000/1152000 [==============================] - 3124s 3ms/sample - loss: 0.4578 - accuracy: 0.7817 - val_loss: 0.4410 - val_accuracy: 0.7921\n",
      "Epoch 2/2\n",
      "1152000/1152000 [==============================] - 3152s 3ms/sample - loss: 0.4248 - accuracy: 0.8019 - val_loss: 0.4350 - val_accuracy: 0.7941\n"
     ]
    },
    {
     "data": {
      "text/plain": [
       "<tensorflow.python.keras.callbacks.History at 0x1cc8a48bc88>"
      ]
     },
     "execution_count": 259,
     "metadata": {},
     "output_type": "execute_result"
    }
   ],
   "source": [
    "model.fit(train_data, train_targets, epochs=2,batch_size=20, verbose=1, validation_split=0.1)"
   ]
  },
  {
   "cell_type": "code",
   "execution_count": 254,
   "metadata": {
    "scrolled": true
   },
   "outputs": [
    {
     "name": "stdout",
     "output_type": "stream",
     "text": [
      "320000/320000 [==============================] - 97s 303us/sample - loss: 0.4381 - accuracy: 0.7942\n"
     ]
    },
    {
     "data": {
      "text/plain": [
       "[0.4381145809381269, 0.79423124]"
      ]
     },
     "execution_count": 254,
     "metadata": {},
     "output_type": "execute_result"
    }
   ],
   "source": [
    "model.evaluate(test_data, test_targets, batch_size=50)"
   ]
  },
  {
   "cell_type": "code",
   "execution_count": null,
   "metadata": {},
   "outputs": [],
   "source": []
  }
 ],
 "metadata": {
  "kernelspec": {
   "display_name": "Python 3",
   "language": "python",
   "name": "python3"
  },
  "language_info": {
   "codemirror_mode": {
    "name": "ipython",
    "version": 3
   },
   "file_extension": ".py",
   "mimetype": "text/x-python",
   "name": "python",
   "nbconvert_exporter": "python",
   "pygments_lexer": "ipython3",
   "version": "3.7.6"
  }
 },
 "nbformat": 4,
 "nbformat_minor": 4
}
