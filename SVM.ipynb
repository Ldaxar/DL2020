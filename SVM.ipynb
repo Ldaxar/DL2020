{
 "cells": [
  {
   "cell_type": "code",
   "execution_count": 4,
   "metadata": {},
   "outputs": [],
   "source": [
    "#Authors: Adam Lewandowski, Ivan Sladkov, Patrick English\n",
    "import numpy as np\n",
    "import pandas as pd"
   ]
  },
  {
   "cell_type": "code",
   "execution_count": 5,
   "metadata": {},
   "outputs": [],
   "source": [
    "def str_list_to_list(tweets):\n",
    "    t = tweets.copy()\n",
    "    import ast \n",
    "    t[\"tweets\"] = t[\"tweets\"].apply(lambda x: ast.literal_eval(x))\n",
    "    return t\n",
    "#Download this: https://drive.google.com/open?id=1-3lesjyVd1gGnjJGz_cipqO8CNeiTiPx\n",
    "#Put it into data folder\n",
    "tweets = pd.read_csv(\"data/processed_tweets.csv\", encoding = \"ISO-8859-1\")\n",
    "tweets = str_list_to_list(tweets)"
   ]
  },
  {
   "cell_type": "code",
   "execution_count": 6,
   "metadata": {},
   "outputs": [
    {
     "name": "stdout",
     "output_type": "stream",
     "text": [
      "         target                                             tweets\n",
      "0             0  [@switchfoot, http://twitpic.com/2y1zl, awww, ...\n",
      "1             0  [upset, can't, update, facebook, texting, ...,...\n",
      "2             0  [@kenichan, dive, many, time, ball, manage, sa...\n",
      "3             0             [whole, body, feel, itchy, like, fire]\n",
      "4             0   [@nationwideclass, behave, i'm, mad, can't, see]\n",
      "...         ...                                                ...\n",
      "1599995       4                [woke, school, best, feeling, ever]\n",
      "1599996       4  [thewdb.com, cool, hear, old, walt, interview,...\n",
      "1599997       4               [ready, mojo, makeover, ask, detail]\n",
      "1599998       4  [happy, 38th, birthday, boo, alll, time, tupac...\n",
      "1599999       4  [happy, #charitytuesday, @thenspcc, @sparkscha...\n",
      "\n",
      "[1600000 rows x 2 columns]\n"
     ]
    }
   ],
   "source": [
    "print(tweets)"
   ]
  },
  {
   "cell_type": "code",
   "execution_count": null,
   "metadata": {},
   "outputs": [],
   "source": []
  }
 ],
 "metadata": {
  "kernelspec": {
   "display_name": "Python 3",
   "language": "python",
   "name": "python3"
  },
  "language_info": {
   "codemirror_mode": {
    "name": "ipython",
    "version": 3
   },
   "file_extension": ".py",
   "mimetype": "text/x-python",
   "name": "python",
   "nbconvert_exporter": "python",
   "pygments_lexer": "ipython3",
   "version": "3.8.2"
  }
 },
 "nbformat": 4,
 "nbformat_minor": 4
}
